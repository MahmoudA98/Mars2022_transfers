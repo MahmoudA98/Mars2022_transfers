{
 "cells": [
  {
   "cell_type": "code",
   "execution_count": 1,
   "metadata": {},
   "outputs": [],
   "source": [
    "###                              Theoretical ONLY    "
   ]
  },
  {
   "cell_type": "code",
   "execution_count": 153,
   "metadata": {},
   "outputs": [],
   "source": [
    "import numpy as np\n",
    "import math\n",
    "import matplotlib.pyplot as plt\n",
    "G = 6.6726e-11   #Grav constant\n",
    "dt= 50  #timestep size\n",
    "n= 4800000  # *based on theorteical transfer time and dt=200 111500\n",
    "i=0 #for the loop later\n",
    "PI=np.pi\n",
    "#n=223000\n",
    "#dt=100"
   ]
  },
  {
   "cell_type": "code",
   "execution_count": 154,
   "metadata": {},
   "outputs": [],
   "source": [
    "class Planet:\n",
    "    def __init__(self, name, mass, dist, radius, period,theta):\n",
    "        self.name=name\n",
    "        self.mass=mass\n",
    "        self.dist=dist\n",
    "        self.radius=radius\n",
    "        self.period=period\n",
    "        self.theta=theta  #\n",
    "        self.pos=self.dist*np.array([np.cos(2*PI*dt*i/self.period+theta),np.sin(2*PI*dt*i/self.period+theta)])\n",
    "        #angular offset based on 28/07/2022   https://www.theplanetstoday.com/\n"
   ]
  },
  {
   "cell_type": "code",
   "execution_count": 155,
   "metadata": {},
   "outputs": [],
   "source": [
    "class Satellite:\n",
    "    def __init__(self, name, mass, pos):\n",
    "        self.name=name\n",
    "        self.mass=mass\n",
    "        self.pos=pos\n",
    "        self.vel=np.array([0,0])\n"
   ]
  },
  {
   "cell_type": "code",
   "execution_count": 156,
   "metadata": {},
   "outputs": [],
   "source": [
    "def toUnit(v):\n",
    "    norm = np.linalg.norm(v)\n",
    "    if norm == 0: \n",
    "       return v\n",
    "    return v / norm\n",
    "\n",
    "def grav(pos, m1,m2,m3): #m1 is sun, m2 earth, m3 mars, m4 venus\n",
    "    acc=np.array([0.0,0.0])\n",
    "    r1=m1.pos-pos\n",
    "    r2=m2.pos-pos\n",
    "    r3=m3.pos-pos\n",
    "    magr1=np.linalg.norm(r1)\n",
    "    magr2=np.linalg.norm(r2)\n",
    "    magr3=np.linalg.norm(r3)\n",
    "    r11=toUnit(r1)\n",
    "    r21=toUnit(r2)\n",
    "    r31=toUnit(r3)\n",
    "    acc1_mag= G*m1.mass/(magr1*magr1)\n",
    "    acc2_mag= G*m2.mass/(magr2*magr2)\n",
    "    acc3_mag= G*m3.mass/(magr3*magr3)\n",
    "    acc[0]= acc1_mag*r11[0]+acc2_mag*r21[0]+acc3_mag*r31[0]\n",
    "    acc[1]= acc1_mag*r11[1]+acc2_mag*r21[1]+acc3_mag*r31[1]\n",
    "    return acc\n",
    "\n",
    "def hamiltonian(fly, m1,m2,m3):\n",
    "    ham=(np.linalg.norm(fly.vel))**2\n",
    "    r1=m1.pos-fly.pos\n",
    "    r2=m2.pos-fly.pos\n",
    "    r3=np.pos-fly.pos\n",
    "    magr1=np.linalg.norm(r1)\n",
    "    magr2=np.linalg.norm(r2)\n",
    "    magr3=np.linalg.norm(r3)\n",
    "    ham=ham-G*((m1/magr1)+(m2/magr2)+(m3/magr3))\n",
    "    return ham\n",
    "\n",
    "def RK4_nbody(fly,m1,m2,m3,a):  #up to 4 bodies\n",
    "    z1=fly.pos+(a/2)*fly.vel\n",
    "    acc1=grav(fly.pos,m1,m2,m3) #need fly but with position z1\n",
    "    v1=fly.vel+(a/2)*acc1\n",
    "    z2=fly.pos+(a/2)*v1\n",
    "    acc2=grav(z1,m1,m2,m3)   #need fly but with position z2\n",
    "    v2=fly.vel+(a/2)*acc2\n",
    "    z3=fly.pos+a*v2\n",
    "    acc3=grav(z2,m1,m2,m3)\n",
    "    v3=fly.vel+a*acc3\n",
    "    fly.pos=fly.pos+(a/6)*(fly.vel+2*v1+2*v2+v3)\n",
    "    acc4=grav(z3,m1,m2,m3)\n",
    "    fly.vel= fly.vel+(a/6)*(acc1+2*acc2+2*acc3+acc4)\n",
    "    \n",
    "def boost(fly, v):\n",
    "    fly.vel[0]+=v[0]\n",
    "    fly.vel[1]+=v[1]\n",
    "\n",
    "def KE_per_mass(fly):\n",
    "    vv=np.linalg.norm(fly.vel)\n",
    "    return 0.5*(vv**2)\n",
    "\n",
    "def energy_correction(fly,m1,m2,m3,a):    #m1,m2,m3 are masses not accounted for in the vis-viva eqn and a is dt\n",
    "    counter_acc=np.array([0.0,0.0])\n",
    "    pos=fly.pos\n",
    "    r1=m1.pos-pos\n",
    "    r2=m2.pos-pos\n",
    "    r3=m3.pos-pos\n",
    "    magr1=np.linalg.norm(r1)\n",
    "    magr2=np.linalg.norm(r2)\n",
    "    magr3=np.linalg.norm(r3)\n",
    "    acc1_mag= G*m1.mass/(magr1*magr1)\n",
    "    acc2_mag= G*m2.mass/(magr2*magr2)\n",
    "    acc3_mag= G*m3.mass/(magr3*magr3)\n",
    "    counter_acc[0]= acc1_mag*r11[0]+acc2_mag*r21[0]+acc3_mag*r31[0]\n",
    "    counter_acc[1]= acc1_mag*r11[1]+acc2_mag*r21[1]+acc3_mag*r31[1]\n",
    "    distance_travelled=fly.vel*a\n",
    "    net_counter_force_per_mass=np.linalg.norm(counter_acc)\n",
    "    return net-counter_force_per_mass*distance_travelled\n",
    "\n",
    "def epsilon(POS,SPEED,m1,m2,m3): #m1,m2,m3,m4 are sun,earth,mars,venus, k is i (which element of array pointer)\n",
    "    EK=0.5*SPEED**2\n",
    "    r1=m1.pos-POS\n",
    "    r2=m2.pos-POS\n",
    "    r3=m3.pos-POS\n",
    "    magr1=np.linalg.norm(r1)\n",
    "    magr2=np.linalg.norm(r2)\n",
    "    magr3=np.linalg.norm(r3)\n",
    "    ham=EK-G*((m1.mass/magr1)+(m2.mass/magr2)+(m3.mass/magr3))\n",
    "    return ham\n",
    "\n",
    "def g_factors(pos,m1):\n",
    "    acc=np.array([0.0,0.0])\n",
    "    r1=m1.pos-pos\n",
    "    magr1=np.linalg.norm(r1)\n",
    "    return G*m1.mass/(magr1*magr1)"
   ]
  },
  {
   "cell_type": "code",
   "execution_count": 157,
   "metadata": {},
   "outputs": [
    {
     "name": "stdout",
     "output_type": "stream",
     "text": [
      "32736.83987955678\n",
      "2470.839879556781\n",
      "2933.2713276335708\n"
     ]
    }
   ],
   "source": [
    "#earth = Planet(\"earth\", 5.9742e+24 , 147.92e+9,6371000,3.15e+7,0) #3.154e+7\n",
    "#mars = Planet(\"mars\", 6.39e+23, 218.49e+9, 3389500, 59.4e+6,0.7768775717671333)\n",
    "#sun = Planet(\"sun\", 1.99e+30, 0, 696340000, 31446925,0)\n",
    "#venus = Planet(\"venus\", 4.867e+24, 108.2e+9, 605200, 19440000,1.55334)\n",
    "\n",
    "earth = Planet(\"earth\", 0 , 149.6e+9,6371000,3.154e+7,0) #period 3.154e+7\n",
    "mars = Planet(\"mars\", 0, 227.94e+9, 3389500, 5.858e+7,0.7432802492995163)#theoretical angular offset0.749, period  59.4e+6\n",
    "sun = Planet(\"sun\", 1.99e+30, 0, 696340000, 31446925,0)\n",
    "#0.775 mars too early\n",
    "rocket = Satellite(\"rocket\", 2.8e+6,np.array([earth.radius+earth.dist, 0]))\n",
    "rocket_vel_at_pole=((earth.dist+earth.radius)/earth.period)*2*PI\n",
    "rocket.vel[1]=(((earth.dist+earth.radius)/earth.period)+(earth.radius/86400))*2*PI\n",
    "\n",
    "\n",
    "vsq=G*sun.mass*(2/(earth.radius+earth.dist)-2/(earth.dist+mars.dist))\n",
    "burn11=np.sqrt(vsq)-np.linalg.norm(rocket.vel)\n",
    "\n",
    "print(np.sqrt(vsq))\n",
    "print(burn11)\n",
    "print(np.sqrt(vsq)-rocket_vel_at_pole)"
   ]
  },
  {
   "cell_type": "code",
   "execution_count": 158,
   "metadata": {},
   "outputs": [
    {
     "name": "stdout",
     "output_type": "stream",
     "text": [
      "[    0 30266] [   0.         2470.83987956]\n",
      "[    0 32736]\n"
     ]
    }
   ],
   "source": [
    "\n",
    "\n",
    "#create the arrays to be exported\n",
    "speed=np.array([np.linalg.norm(rocket.vel)])\n",
    "MX=np.array(mars.pos[0])\n",
    "MY=np.array(mars.pos[1])\n",
    "EX=np.array(earth.pos[0])\n",
    "EY=np.array(earth.pos[1])\n",
    "RX=np.array(rocket.pos[0])\n",
    "RY=np.array(rocket.pos[1])\n",
    "hams=np.array([epsilon(rocket.pos,speed[0],sun,earth,mars)])\n",
    "#----------------------\n",
    "\n",
    "deltav1=np.array([0,burn11])\n",
    "print(rocket.vel, deltav1)\n",
    "rocket.vel[1]+=deltav1[1]\n",
    "print(rocket.vel)"
   ]
  },
  {
   "cell_type": "code",
   "execution_count": 159,
   "metadata": {},
   "outputs": [
    {
     "name": "stdout",
     "output_type": "stream",
     "text": [
      "arrived\n",
      "deltaV2: 2959.0376518569055 extra m/s\n"
     ]
    },
    {
     "data": {
      "text/plain": [
       "<matplotlib.legend.Legend at 0x7faa58778070>"
      ]
     },
     "execution_count": 159,
     "metadata": {},
     "output_type": "execute_result"
    },
    {
     "data": {
      "image/png": "[encoded data removed]",
      "text/plain": [
       "<Figure size 864x864 with 1 Axes>"
      ]
     },
     "metadata": {
      "needs_background": "light"
     },
     "output_type": "display_data"
    }
   ],
   "source": [
    "#Create figure\n",
    "fig=plt.figure(figsize=(12,12))\n",
    "#Create 3D axes\n",
    "ax=fig.add_subplot(111)\n",
    "\n",
    "#append all so they are all the same length in the end\n",
    "MX=np.append(MX,mars.pos[0])\n",
    "MY=np.append(MY,mars.pos[1])\n",
    "EX=np.append(EX,earth.pos[0])\n",
    "EY=np.append(EY,earth.pos[1])\n",
    "RX=np.append(RX,rocket.pos[0])\n",
    "RY=np.append(RY,rocket.pos[1])\n",
    "speed=np.append(speed,np.linalg.norm(rocket.vel))\n",
    "hams=np.append(hams,epsilon(rocket.pos,speed[1],sun,earth,mars))\n",
    "\n",
    "#-----------------------\n",
    "for i in range(0,n):\n",
    "    earth.pos=earth.dist*np.array([np.cos(2*PI*dt*i/earth.period+earth.theta),np.sin(2*PI*dt*i/earth.period+earth.theta)])\n",
    "    mars.pos=mars.dist*np.array([np.cos(2*PI*dt*i/mars.period+mars.theta),np.sin(2*PI*dt*i/mars.period+mars.theta)])\n",
    "    #print(rocket.vel)\n",
    "    RK4_nbody(rocket, sun, earth, mars, dt)\n",
    "    \n",
    "    #append all equally \n",
    "    \n",
    "    RX=np.append(RX,rocket.pos[0])\n",
    "    RY=np.append(RY,rocket.pos[1])\n",
    "    MX=np.append(MX,mars.pos[0])\n",
    "    MY=np.append(MY,mars.pos[1])\n",
    "    EX=np.append(EX,earth.pos[0])\n",
    "    EY=np.append(EY,earth.pos[1])\n",
    "    speed=np.append(speed,np.linalg.norm(rocket.vel))\n",
    "    hams=np.append(hams,epsilon(rocket.pos,speed[i+2],sun,earth,mars))\n",
    "    \n",
    "    #earth crash\n",
    "    #if np.linalg.norm(rocket.pos-earth.pos)<earth.radius:\n",
    "     #   print(\"early crash\")\n",
    "      #  break\n",
    "    \n",
    "    #mars landing\n",
    "    dist=np.linalg.norm(rocket.pos)\n",
    "    if mars.dist-dist<mars.radius:\n",
    "        marsvel=np.array([0,-24448.433918035418])\n",
    "        print(\"velocity before landing=\", rocket.vel)\n",
    "        burn2=marsvel-rocket.vel\n",
    "        rocket.vel+=burn2\n",
    "        burn2mag=np.linalg.norm(burn2)\n",
    "        print(\"deltaV2:\", burn2mag, \"extra m/s\")\n",
    "        print(\"i=\", i)\n",
    "        if np.linalg.norm(mars.pos-rocket.pos)<mars.radius:\n",
    "            print(\"perfect arrival\")\n",
    "            break\n",
    "        else:\n",
    "            print(\"Landing successfull\")\n",
    "            \n",
    "            #append all so same lenght arrays \"landing appends\"\n",
    "            RX=np.append(RX,MX[i])\n",
    "            RY=np.append(RY,MY[i]-mars.radius)\n",
    "            MX=np.append(MX,mars.pos[0])\n",
    "            MY=np.append(MY,mars.pos[1])\n",
    "            EX=np.append(EX,earth.pos[0])\n",
    "            EY=np.append(EY,earth.pos[1])\n",
    "            speed=np.append(speed,np.linalg.norm(rocket.vel))\n",
    "            hams=np.append(hams,epsilon(rocket.pos,speed[i+3],sun,earth,mars))\n",
    "            #landing complete, rocket matching martian velocity \n",
    "            break\n",
    "    if rocket.pos[1] <0:\n",
    "        print(\"arrived\")\n",
    "        marsvel=np.array([0,-24448.4])\n",
    "        burn2=marsvel-rocket.vel\n",
    "        burn2mag=np.linalg.norm(burn2)\n",
    "        print(\"deltaV2:\", burn2mag, \"extra m/s\")\n",
    "        rocket.vel=marsvel\n",
    "        \n",
    "        RX=np.append(RX,mars.pos[0])\n",
    "        RY=np.append(RY,mars.pos[1]+mars.radius)\n",
    "        MX=np.append(MX,mars.pos[0])\n",
    "        MY=np.append(MY,mars.pos[1])\n",
    "        EX=np.append(EX,earth.pos[0])\n",
    "        EY=np.append(EY,earth.pos[1])\n",
    "        speed=np.append(speed,np.linalg.norm(rocket.vel))\n",
    "        hams=np.append(hams,epsilon(rocket.pos,speed[i+3],sun,earth,mars))\n",
    "        break\n",
    "        \n",
    "plt.plot(RX, RY,label='Rocket', color=\"black\", linewidth=1)\n",
    "ax.plot(MX,MY, color=\"darkred\", linewidth=1, linestyle=\"dashed\" )\n",
    "ax.plot(EX,EY, color=\"blue\", linewidth=1, linestyle=\"dashed\" )\n",
    "ax.plot(0,0,label='Sun', marker=\"*\", markersize=15, color=\"orange\", linewidth=0)\n",
    "#plot the final positions\n",
    "ax.scatter(MX[i],MY[i], label=\"Mars\", color=\"darkred\", marker=\"o\",s=80)\n",
    "ax.scatter(EX[i],EY[i], label='Earth', color=\"blue\", marker=\"o\",s=80)\n",
    "\n",
    "ax.set_xlabel(\"x-coordinate\",fontsize=14)\n",
    "ax.set_ylabel(\"y-coordinate\",fontsize=14)\n",
    "ax.set_title(\"Theoretical hohmann transfer to Mars\",fontsize=14)\n",
    "ax.legend(loc=\"best\",fontsize=14)"
   ]
  },
  {
   "cell_type": "code",
   "execution_count": null,
   "metadata": {},
   "outputs": [],
   "source": [
    "\n",
    "dt 50.    2959.0374206055676\n",
    "dt 100.   2959.037412029713\n",
    "dt 200.   2959.037394405099\n",
    "dt 500.   2959.037275417184\n",
    "\n",
    "dt 50.     2959.0376518569055\n",
    "dt 100.    2959.0376518563858\n",
    "dt 200.    2959.037651855527\n",
    "dt 500.    2959.0378908752737\n",
    "dt 1000    2959.037890874544\n",
    "dt 5000.   2959.044965374039\n",
    "dt 10000.  2959.044965367993"
   ]
  },
  {
   "cell_type": "code",
   "execution_count": 164,
   "metadata": {},
   "outputs": [
    {
     "data": {
      "text/plain": [
       "[<matplotlib.lines.Line2D at 0x7faa88d5b220>]"
      ]
     },
     "execution_count": 164,
     "metadata": {},
     "output_type": "execute_result"
    },
    {
     "data": {
      "image/png": "[encoded data removed]",
      "text/plain": [
       "<Figure size 432x288 with 1 Axes>"
      ]
     },
     "metadata": {
      "needs_background": "light"
     },
     "output_type": "display_data"
    }
   ],
   "source": [
    "theory= 2962.0265096257644\n",
    "dts=[50,100,200,500,1000,5000,10000]\n",
    "ys=[2959.0376518569055,2959.0376518563858,2959.037651855527,2959.0378908752737,2959.037890874544,2959.044965374039,2959.044965367993]\n",
    "YS=np.zeros(len(ys))\n",
    "for i in range(0, len(ys)):\n",
    "    YS[i]=(theory-ys[i])*100/theory\n",
    "plt.semilogx(dts,YS)"
   ]
  },
  {
   "cell_type": "code",
   "execution_count": 47,
   "metadata": {},
   "outputs": [
    {
     "name": "stdout",
     "output_type": "stream",
     "text": [
      "21486.373490374237\n",
      "2962.060427661181\n"
     ]
    }
   ],
   "source": [
    "a=(mars.dist+earth.dist)/2\n",
    "v2sq=G*sun.mass*((2/mars.dist)-(1/a))\n",
    "print(np.sqrt(v2sq))\n",
    "mvel=2*PI*mars.dist/mars.period\n",
    "print(mvel-np.sqrt(v2sq))"
   ]
  },
  {
   "cell_type": "code",
   "execution_count": 228,
   "metadata": {},
   "outputs": [
    {
     "name": "stdout",
     "output_type": "stream",
     "text": [
      "24448.4\n",
      "-67.93099472794333\n"
     ]
    }
   ],
   "source": [
    "print(speed[len(speed)-1])\n",
    "e1=0.5*(speed[len(speed)-2])**2\n",
    "e2=0.5*(speed[len(speed)-1])**2\n",
    "print((e1-e2)/1000000)"
   ]
  },
  {
   "cell_type": "code",
   "execution_count": 229,
   "metadata": {},
   "outputs": [
    {
     "name": "stdout",
     "output_type": "stream",
     "text": [
      "boost1= 77780812.94536752\n",
      "boost pole= 91696498.78540695\n"
     ]
    }
   ],
   "source": [
    "needed_velocity=32736\n",
    "v_pole=((earth.dist+earth.radius)/earth.period)*2*PI\n",
    "v_eq=(((earth.dist+earth.radius)/earth.period)+(earth.radius/86400))*2*PI\n",
    "e_eq=0.5*v_eq**2\n",
    "e_pole=0.5*v_pole**2\n",
    "e_need=0.5*needed_velocity**2\n",
    "boost_eq= e_need-e_eq\n",
    "boost_pole=e_need-e_pole\n",
    "print('boost1=', e_need-e_eq)\n",
    "print('boost pole=', e_need-e_pole)"
   ]
  },
  {
   "cell_type": "code",
   "execution_count": 230,
   "metadata": {},
   "outputs": [
    {
     "name": "stdout",
     "output_type": "stream",
     "text": [
      "energy difference= 13.91568584003943 Mj/kg\n"
     ]
    },
    {
     "data": {
      "image/png": "[encoded data removed]",
      "text/plain": [
       "<Figure size 576x360 with 1 Axes>"
      ]
     },
     "metadata": {
      "needs_background": "light"
     },
     "output_type": "display_data"
    },
    {
     "name": "stdout",
     "output_type": "stream",
     "text": [
      "145.6808129453675\n",
      "159.59649878540694\n"
     ]
    }
   ],
   "source": [
    "fig=plt.figure(figsize=(8,5))\n",
    "dE2=67.9    #MJ\n",
    "dE1=boost_eq/1000000     #MJ\n",
    "dE1_pole=boost_pole/1000000\n",
    "E=np.zeros(i)\n",
    "E_pole=np.zeros(i)\n",
    "X=np.zeros(i)\n",
    "E[0]=0\n",
    "X[0]=0\n",
    "E_pole[0]=0\n",
    "for k in range(1,i):\n",
    "    E_pole[k]=dE1_pole\n",
    "    E[k]=dE1\n",
    "    X[k]=k*dt\n",
    "E[i-1]=dE1+dE2\n",
    "E_pole[i-1]=dE1_pole+dE2\n",
    "\n",
    "print(\"energy difference=\",E_pole[i-1]-E[i-1], \"Mj/kg\")\n",
    "\n",
    "plt.plot(X,E, label='launching from the equator', color=\"blue\")\n",
    "plt.plot(X,E_pole, label='launching from pole', color=\"red\", linestyle=\"dotted\")\n",
    "plt.title(\"Energy provided by thrusters per kg for the \\n theoretical hohmann transfer to Mars\")\n",
    "plt.xlabel(\"time since launch [s]\")\n",
    "plt.ylabel(\"$\\epsilon$ (energy per unit mass) [Mj]\")\n",
    "plt.legend(loc=\"best\")\n",
    "plt.show()\n",
    "print(E[i-1])\n",
    "print(E_pole[i-1])"
   ]
  },
  {
   "cell_type": "code",
   "execution_count": 231,
   "metadata": {},
   "outputs": [
    {
     "name": "stdout",
     "output_type": "stream",
     "text": [
      "1.1158798283261802\n"
     ]
    }
   ],
   "source": [
    "print(130/116.5)"
   ]
  },
  {
   "cell_type": "code",
   "execution_count": 272,
   "metadata": {},
   "outputs": [],
   "source": [
    "np.savetxt('rocket_Xpos_dt200.txt', RX)\n",
    "np.savetxt('rocket_Ypos_dt200.txt', RY)\n",
    "np.savetxt('rocket_speed_dt200.txt', speed)\n",
    "np.savetxt('mars_Xpos_dt200.txt', MX)\n",
    "np.savetxt('mars_Ypos_dt200.txt',MY)\n",
    "np.savetxt('earth_Xpos_dt200.txt', EX)\n",
    "np.savetxt('earth_Ypos_dt200.txt', EY)\n",
    "np.savetxt('hamiltonian_dt200.txt',hams)"
   ]
  },
  {
   "cell_type": "code",
   "execution_count": 160,
   "metadata": {},
   "outputs": [
    {
     "name": "stdout",
     "output_type": "stream",
     "text": [
      "111539\n"
     ]
    }
   ],
   "source": [
    "print(len(hams))"
   ]
  },
  {
   "cell_type": "code",
   "execution_count": 162,
   "metadata": {},
   "outputs": [
    {
     "name": "stdout",
     "output_type": "stream",
     "text": [
      "111539\n"
     ]
    }
   ],
   "source": [
    "print(len(RX))"
   ]
  },
  {
   "cell_type": "code",
   "execution_count": 37,
   "metadata": {},
   "outputs": [
    {
     "name": "stdout",
     "output_type": "stream",
     "text": [
      "105652 105652\n",
      "105652 105652\n",
      "105652 105652\n",
      "105652\n",
      "105652\n"
     ]
    }
   ],
   "source": [
    "print(len(RX),len(RY))\n",
    "print(len(MX),len(MY))\n",
    "print(len(EX),len(EY))\n",
    "print(len(speed))\n",
    "print(len(hams))"
   ]
  },
  {
   "cell_type": "code",
   "execution_count": 40,
   "metadata": {},
   "outputs": [
    {
     "data": {
      "text/plain": [
       "[<matplotlib.lines.Line2D at 0x7fbdb02905b0>]"
      ]
     },
     "execution_count": 40,
     "metadata": {},
     "output_type": "execute_result"
    },
    {
     "data": {
      "image/png": "[encoded data removed]",
      "text/plain": [
       "<Figure size 432x288 with 1 Axes>"
      ]
     },
     "metadata": {
      "needs_background": "light"
     },
     "output_type": "display_data"
    }
   ],
   "source": [
    "timen=np.zeros(len(hams))\n",
    "e0=hams[0]\n",
    "plothams=np.zeros(len(hams))\n",
    "for i in range(0,len(hams)):\n",
    "    timen[i]=dt*i\n",
    "    plothams[i]=hams[i]-hams[0]\n",
    "plt.plot(timen,plothams)"
   ]
  },
  {
   "cell_type": "code",
   "execution_count": 21,
   "metadata": {},
   "outputs": [
    {
     "name": "stdout",
     "output_type": "stream",
     "text": [
      "29932.0 32719.0\n"
     ]
    }
   ],
   "source": [
    "print(speed[0],speed[1])"
   ]
  },
  {
   "cell_type": "code",
   "execution_count": 22,
   "metadata": {},
   "outputs": [
    {
     "name": "stdout",
     "output_type": "stream",
     "text": [
      "22152.80693852075 23434.8\n"
     ]
    }
   ],
   "source": [
    "print(speed[105650],speed[105651])"
   ]
  },
  {
   "cell_type": "code",
   "execution_count": 23,
   "metadata": {},
   "outputs": [
    {
     "name": "stdout",
     "output_type": "stream",
     "text": [
      "32719.58268669747\n"
     ]
    }
   ],
   "source": [
    "vsq=G*sun.mass*((2/earth.dist)-(2/(earth.dist+mars.dist)))\n",
    "print(np.sqrt(vsq))"
   ]
  },
  {
   "cell_type": "code",
   "execution_count": 24,
   "metadata": {},
   "outputs": [
    {
     "name": "stdout",
     "output_type": "stream",
     "text": [
      "105652\n",
      "22152.80693852075\n"
     ]
    }
   ],
   "source": [
    "print(len(speed))\n",
    "print(speed[105650])"
   ]
  },
  {
   "cell_type": "code",
   "execution_count": 25,
   "metadata": {},
   "outputs": [
    {
     "name": "stdout",
     "output_type": "stream",
     "text": [
      "1283.3465171903008\n"
     ]
    }
   ],
   "source": [
    "print(23434.843935911023-22151.497418720723)"
   ]
  },
  {
   "cell_type": "code",
   "execution_count": 14,
   "metadata": {},
   "outputs": [
    {
     "name": "stdout",
     "output_type": "stream",
     "text": [
      "0.0027815382610590625\n",
      "3.7112881317552593\n"
     ]
    }
   ],
   "source": [
    "g_at_mars_from_sun=G*sun.mass/(mars.dist**2)\n",
    "g_at_mars_from_mars=G*6.39e+23/(mars.radius**2)\n",
    "print(g_at_mars_from_sun)\n",
    "print(g_at_mars_from_mars)"
   ]
  },
  {
   "cell_type": "code",
   "execution_count": 34,
   "metadata": {},
   "outputs": [
    {
     "name": "stdout",
     "output_type": "stream",
     "text": [
      "29221497.89231345\n"
     ]
    }
   ],
   "source": [
    "print(0.5*speed[105651]**2-0.5*speed[105650]**2)"
   ]
  },
  {
   "cell_type": "code",
   "execution_count": null,
   "metadata": {},
   "outputs": [],
   "source": []
  }
 ],
 "metadata": {
  "kernelspec": {
   "display_name": "Python 3",
   "language": "python",
   "name": "python3"
  },
  "language_info": {
   "codemirror_mode": {
    "name": "ipython",
    "version": 3
   },
   "file_extension": ".py",
   "mimetype": "text/x-python",
   "name": "python",
   "nbconvert_exporter": "python",
   "pygments_lexer": "ipython3",
   "version": "3.8.5"
  }
 },
 "nbformat": 4,
 "nbformat_minor": 4
}
