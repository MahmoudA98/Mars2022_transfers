{
 "cells": [
  {
   "cell_type": "code",
   "execution_count": 21,
   "metadata": {},
   "outputs": [],
   "source": [
    "import numpy as np\n",
    "import math\n",
    "import matplotlib.pyplot as plt\n",
    "from scipy.optimize import minimize\n",
    "G = 6.6726e-11   #Grav constant\n",
    "dt=200  #timestep size\n",
    "n= 121548  # based on theorteical transfer time 111802/5\n",
    "i=0 #for the loop later\n",
    "PI=np.pi\n",
    "\n",
    "class Planet:\n",
    "    def __init__(self, name, mass, dist, radius, period,theta):\n",
    "        self.name=name\n",
    "        self.mass=mass\n",
    "        self.dist=dist\n",
    "        self.radius=radius\n",
    "        self.period=period\n",
    "        self.theta=theta  #\n",
    "        self.pos=self.dist*np.array([np.cos(2*PI*dt*i/self.period+theta),np.sin(2*PI*dt*i/self.period+theta)])\n",
    "        self.vel=np.array([0.0,0.0])\n",
    "        self.speed=np.linalg.norm(self.vel)\n",
    "        #angular offset based on 28/07/2022   https://www.theplanetstoday.com/\n",
    "        \n",
    "class Satellite:\n",
    "    def __init__(self, name, mass, pos):\n",
    "        self.name=name\n",
    "        self.mass=mass\n",
    "        self.pos=pos\n",
    "        self.vel=np.array([0,0])\n",
    "        self.speed=np.linalg.norm(self.vel)\n",
    "\n",
    "\n",
    " \n",
    "def getAngle(a, b, c):\n",
    "    ang = math.degrees(math.atan2(c[1]-b[1], c[0]-b[0]) - math.atan2(a[1]-b[1], a[0]-b[0]))\n",
    "    return ang + 360 if ang < 0 else ang\n",
    "\n",
    "def toUnit(v):\n",
    "    norm = np.linalg.norm(v)\n",
    "    if norm == 0: \n",
    "       return v\n",
    "    return v / norm\n",
    "\n",
    "def grav(pos, m1,m2,m3): #m1 is sun, m2 earth, m3 mars, m4 venus\n",
    "    acc=np.array([0.0,0.0])\n",
    "    r1=m1.pos-pos\n",
    "    r2=m2.pos-pos\n",
    "    r3=m3.pos-pos\n",
    "    magr1=np.linalg.norm(r1)\n",
    "    magr2=np.linalg.norm(r2)\n",
    "    magr3=np.linalg.norm(r3)\n",
    "    r11=toUnit(r1)\n",
    "    r21=toUnit(r2)\n",
    "    r31=toUnit(r3)\n",
    "    acc1_mag= G*m1.mass/(magr1*magr1)\n",
    "    acc2_mag= G*m2.mass/(magr2*magr2)\n",
    "    acc3_mag= G*m3.mass/(magr3*magr3)\n",
    "    acc[0]= acc1_mag*r11[0]+acc2_mag*r21[0]+acc3_mag*r31[0]\n",
    "    acc[1]= acc1_mag*r11[1]+acc2_mag*r21[1]+acc3_mag*r31[1]\n",
    "    return acc\n",
    "\n",
    "def RK4_nbody(fly,m1,m2,m3,a):  #up to 4 bodies\n",
    "    z1=fly.pos+(a/2)*fly.vel\n",
    "    acc1=grav(fly.pos,m1,m2,m3) #need fly but with position z1\n",
    "    v1=fly.vel+(a/2)*acc1\n",
    "    z2=fly.pos+(a/2)*v1\n",
    "    acc2=grav(z1,m1,m2,m3)   #need fly but with position z2\n",
    "    v2=fly.vel+(a/2)*acc2\n",
    "    z3=fly.pos+a*v2\n",
    "    acc3=grav(z2,m1,m2,m3)\n",
    "    v3=fly.vel+a*acc3\n",
    "    fly.pos=fly.pos+(a/6)*(fly.vel+2*v1+2*v2+v3)\n",
    "    acc4=grav(z3,m1,m2,m3)\n",
    "    fly.vel= fly.vel+(a/6)*(acc1+2*acc2+2*acc3+acc4)\n",
    "    \n",
    "    \n",
    "    \n",
    "def objective(V):  #fixed dt=200 and starting positions of planets\n",
    "    earth = Planet(\"earth\", 5.972e+24, 147136301904.61224,6371000,3.154e+7,0) #period 3.154e+7 mass5.972e+24 \n",
    "    mars = Planet(\"mars\",6.39e+23, 245913469863.12405, 3389500, 5.858e+7,0.7432802492995163)#theoretical angular offset 0.7432802492995163, period  59.4e+6   mass 6.39e+23\n",
    "    sun = Planet(\"sun\", 1.99e+30, 0, 696340000, 31446925,0)\n",
    "\n",
    "\n",
    "    earth.speed= 30278.263239783308 \n",
    "    mars.speed= 22230.17728717589\n",
    "    E_S_M= 42.589993497459346*PI/180\n",
    "    mars_angle=1.59639117396732  #angle between velocity and position vectors\n",
    "    earth_angle=1.5679385733198765\n",
    "    marsvelangle= mars_angle-E_S_M    #angle velocity of mars makes with the horizontal\n",
    "    earth.pos=np.array([earth.dist,0.0])\n",
    "    earth.vel=np.array([earth.speed*np.cos(PI-earth_angle),earth.speed*np.sin(PI-earth_angle)])\n",
    "    mars.pos=mars.dist*np.array([np.cos(E_S_M), np.sin(E_S_M)])\n",
    "    mars.vel= mars.speed*np.array([-np.cos(marsvelangle), np.sin(marsvelangle)])\n",
    "\n",
    "    rocket = Satellite(\"rocket\", 2.8e+6,[0,0])\n",
    "    rocket.pos=earth.pos+np.array([earth.radius,0.0])\n",
    "    rocket.vel=earth.vel+np.array([0.0,(earth.radius/86400)*2*PI ])\n",
    "\n",
    "    #input vector delat V, the additional velocity\n",
    "    rocket.vel = rocket.vel+V\n",
    "    for i in range(0,n):\n",
    "        RK4_nbody(earth,sun,mars,rocket,dt)\n",
    "        RK4_nbody(mars,sun,rocket,earth,dt)\n",
    "        RK4_nbody(rocket,sun,earth,mars,dt) #200 is dt\n",
    "    return np.linalg.norm(rocket.pos-mars.pos)  #works!\n",
    "    \n",
    "def minimizer(fun, xbounds, ybounds, nsteps):   #works\n",
    "    xstep=(xbounds[1]-xbounds[0])/nsteps\n",
    "    ystep=(ybounds[1]-ybounds[0])/nsteps\n",
    "    best=10e+12\n",
    "    minv=np.array([0.0,0.0])\n",
    "    v=np.array([0.0,0.0])\n",
    "    for i in range(0,nsteps):\n",
    "        v[0]=i*xstep+xbounds[0]\n",
    "        for k in range (0,nsteps):\n",
    "            v[1]=k*ystep+ybounds[0]\n",
    "            value= fun(v)\n",
    "            print(v,value)\n",
    "            if value<best:\n",
    "                minv[0]=v[0]\n",
    "                minv[1]=v[1]\n",
    "                best=value\n",
    "    print(minv, best)\n",
    "    \n",
    "def epsilon(POS,SPEED,m1,m2): #m1,m2,m3,m4 are sun,earth,mars,venus, k is i (which element of array pointer)\n",
    "    EK=0.5*SPEED**2\n",
    "    r1=m1.pos-POS\n",
    "    r2=m2.pos-POS\n",
    "    magr1=np.linalg.norm(r1)\n",
    "    magr2=np.linalg.norm(r2)\n",
    "    ham=EK-G*((m1.mass/magr1)+(m2.mass/magr2))\n",
    "    return ham\n",
    "\n",
    "earth = Planet(\"earth\", 5.972e+24, 147136301904.61224,6371000,3.154e+7,0) #period 3.154e+7 mass5.972e+24 \n",
    "mars = Planet(\"mars\",6.39e+23 , 245913469863.12405, 3389500, 5.858e+7,0.7432802492995163)#theoretical angular offset 0.7432802492995163, period  59.4e+6   mass 6.39e+23\n",
    "sun = Planet(\"sun\", 1.99e+30, 0, 696340000, 31446925,0)\n",
    "\n",
    "\n",
    "earth.speed= 30278.263239783308 \n",
    "mars.speed= 22230.17728717589\n",
    "E_S_M= 42.589993497459346*PI/180\n",
    "mars_angle=1.59639117396732  #angle between velocity and position vectors\n",
    "earth_angle=1.5679385733198765\n",
    "marsvelangle= mars_angle-E_S_M    #angle velocity of mars makes with the horizontal\n",
    "earth.pos=np.array([earth.dist,0.0])\n",
    "earth.vel=np.array([earth.speed*np.cos(PI-earth_angle),earth.speed*np.sin(PI-earth_angle)])\n",
    "mars.pos=mars.dist*np.array([np.cos(E_S_M), np.sin(E_S_M)])\n",
    "mars.vel= mars.speed*np.array([-np.cos(marsvelangle), np.sin(marsvelangle)])\n",
    "\n",
    "rocket = Satellite(\"rocket\", 2.8e+6,[0,0])\n",
    "rocket.pos=earth.pos+np.array([earth.radius,0.0])\n",
    "rocket.vel=earth.vel+np.array([0,(earth.radius/86400)*2*PI ])"
   ]
  },
  {
   "cell_type": "code",
   "execution_count": 22,
   "metadata": {},
   "outputs": [
    {
     "name": "stdout",
     "output_type": "stream",
     "text": [
      "[  -86.52769422 30741.45179664]\n",
      "[  -86.52769422 30278.13960229]\n",
      "landed successfully 121547\n"
     ]
    },
    {
     "data": {
      "text/plain": [
       "(-250000000000.0, 250000000000.0)"
      ]
     },
     "execution_count": 22,
     "metadata": {},
     "output_type": "execute_result"
    },
    {
     "data": {
      "image/png": "[encoded data removed]",
      "text/plain": [
       "<Figure size 720x720 with 1 Axes>"
      ]
     },
     "metadata": {
      "needs_background": "light"
     },
     "output_type": "display_data"
    }
   ],
   "source": [
    "earth = Planet(\"earth\", 5.972e+24, 147136301904.61224,6371000,3.154e+7,0) #period 3.154e+7 mass5.972e+24 \n",
    "mars = Planet(\"mars\",6.39e+23, 245913469863.12405, 3389500, 5.858e+7,0.7432802492995163)#theoretical angular offset 0.7432802492995163, period  59.4e+6   mass 6.39e+23\n",
    "sun = Planet(\"sun\", 1.99e+30, 0, 696340000, 31446925,0)\n",
    "\n",
    "\n",
    "earth.speed= 30278.263239783308 \n",
    "mars.speed= 22230.17728717589\n",
    "E_S_M= 42.589993497459346*PI/180\n",
    "mars_angle=1.59639117396732  #angle between velocity and position vectors\n",
    "earth_angle=1.5679385733198765\n",
    "marsvelangle= mars_angle-E_S_M    #angle velocity of mars makes with the horizontal\n",
    "earth.pos=np.array([earth.dist,0.0])\n",
    "earth.vel=np.array([earth.speed*np.cos(PI-earth_angle),earth.speed*np.sin(PI-earth_angle)])\n",
    "mars.pos=mars.dist*np.array([np.cos(E_S_M), np.sin(E_S_M)])\n",
    "mars.vel= mars.speed*np.array([-np.cos(marsvelangle), np.sin(marsvelangle)])\n",
    "\n",
    "rocket = Satellite(\"rocket\", 2.8e+6,[0,0])\n",
    "rocket.pos=earth.pos+np.array([earth.radius,0.0])\n",
    "rocket.vel=earth.vel+np.array([0,(earth.radius/86400)*2*PI ])\n",
    "print(rocket.vel)\n",
    "print(earth.vel)\n",
    "\n",
    "\n",
    "\n",
    "PEX=np.zeros(n)\n",
    "PEY=np.zeros(n)\n",
    "PMX=np.zeros(n)\n",
    "PMY=np.zeros(n)\n",
    "RX=np.zeros(n)\n",
    "RY=np.zeros(n)\n",
    "#input vector delat V, the additional velocity   escape velocity 11110\n",
    "V=np.array([10577.44748317,  2947.46702147] )  #[10480, 3130] [10485, 3090]    #[10490,3080]\n",
    "rocket.vel = rocket.vel+V\n",
    "\n",
    "\n",
    "for i in range(0,n):\n",
    "    \n",
    "    RK4_nbody(earth,sun,rocket,mars,dt)\n",
    "    RK4_nbody(mars,sun,earth,rocket,dt)\n",
    "    RK4_nbody(rocket,sun,earth,mars,dt)\n",
    "    RX[i]=rocket.pos[0]\n",
    "    RY[i]=rocket.pos[1]\n",
    "    PEX[i]=earth.pos[0]\n",
    "    PEY[i]=earth.pos[1]\n",
    "    PMX[i]=mars.pos[0]\n",
    "    PMY[i]=mars.pos[1]\n",
    "    if np.linalg.norm(earth.pos-rocket.pos)<earth.radius:\n",
    "        print(\"launch crash\")\n",
    "        break\n",
    "    if np.linalg.norm(mars.pos-rocket.pos)<mars.radius:\n",
    "        print(\"landed successfully\", i)\n",
    "        break\n",
    "    \n",
    "\n",
    "\n",
    "fig=plt.figure(figsize=(10,10))\n",
    "ax=fig.add_subplot(111)\n",
    "ax.plot(PMX,PMY, color=\"darkred\", linewidth=1, label=\"Mars' orbit\") #, ) marker=\"o\",s=80)\n",
    "ax.plot(PEX,PEY, color=\"blue\", linewidth=1, label=\"Earth's orbit\" )# , marker=\"o\",s=80)\n",
    "ax.plot(0,0,label='Sun', marker=\"*\", markersize=15, color=\"orange\", linewidth=0)\n",
    "ax.scatter(PMX[i],PMY[i] ,color=\"darkred\")\n",
    "ax.scatter(PEX[i],PEY[i], color=\"blue\")\n",
    "#ax.sctter(PEX[], PEY[], color=\"green\")\n",
    "ax.scatter(PEX[11230],PEY[11230], color= \"blue\")\n",
    "ax.scatter(PMX[11230+86391], PMY[11230+86391], color=\"darkred\")\n",
    "ax.plot(RX,RY, label='Hohmann-like transfer 2022',color=\"black\" )\n",
    "ax.plot(PEX[11230],PEY[11230], color=\"green\", label=\"Lambert's prediction transfer 2022\" ) #11230 is seconds after hohmann that lambert starts\n",
    "ax.set_xlabel(\"x-coordinate\",fontsize=14)\n",
    "ax.set_ylabel(\"y-coordinate\",fontsize=14)\n",
    "ax.set_title(\"2D Trajectories of the 2 transfers to Mars.\",fontsize=14)\n",
    "ax.legend(loc=\"lower right\",fontsize=14)\n",
    "plt.ylim([-2.5e+11, 2.5e+11])\n",
    "plt.xlim([-2.5e+11,2.5e+11])"
   ]
  },
  {
   "cell_type": "code",
   "execution_count": 23,
   "metadata": {},
   "outputs": [
    {
     "name": "stdout",
     "output_type": "stream",
     "text": [
      "2715986.0849819356\n"
     ]
    }
   ],
   "source": [
    "print(np.linalg.norm(mars.pos-rocket.pos))    #[10480  3052] 10050567801\n",
    "                                              #[10490, 3080]  6287218724\n",
    "                                            #  [10535,  3053] 1722606694\n",
    "                                            # [10535, 3050]   1504286388\n",
    "                                            # [10535, 5045]   1170180157\n",
    "                                            # [10535, 5040]   909131044\n",
    "                                            # [10535, 5030]   890941763\n",
    "                                            # [10532  3038]   881144682.\n",
    "                                            #[10541  3022]    694835369\n",
    "                                            #[10541  3022]     694835369.\n",
    "                                            #[10542.6  3020. ] 664736717\n",
    "                                            #[10557.95  2987.4 ] 344756044\n",
    "                                            #[10558.11093716,  2987.5 ] 343748708.53970766"
   ]
  },
  {
   "cell_type": "code",
   "execution_count": 18,
   "metadata": {},
   "outputs": [
    {
     "name": "stdout",
     "output_type": "stream",
     "text": [
      "dv1= 10980.435196378721\n",
      "dv2= 6792.732465676917\n",
      "18753.636894704363\n",
      "dvtot= 17773.16766205564\n"
     ]
    }
   ],
   "source": [
    "\n",
    "print(\"dv1=\",np.linalg.norm(V))\n",
    "print(\"dv2=\",np.linalg.norm(mars.vel-rocket.vel))\n",
    "print(np.linalg.norm(rocket.vel))\n",
    "print('dvtot=', np.linalg.norm(V)+np.linalg.norm(mars.vel-rocket.vel))"
   ]
  },
  {
   "cell_type": "code",
   "execution_count": 20,
   "metadata": {},
   "outputs": [
    {
     "name": "stdout",
     "output_type": "stream",
     "text": [
      "[  1885.75197712 -25440.57814534]\n",
      "[   788.49605038 -18737.05341715]\n"
     ]
    }
   ],
   "source": [
    "print(mars.vel)\n",
    "print(rocket.vel)"
   ]
  },
  {
   "cell_type": "code",
   "execution_count": 50,
   "metadata": {},
   "outputs": [
    {
     "ename": "ModuleNotFoundError",
     "evalue": "No module named 'poliastro'",
     "output_type": "error",
     "traceback": [
      "\u001b[0;31m---------------------------------------------------------------------------\u001b[0m",
      "\u001b[0;31mModuleNotFoundError\u001b[0m                       Traceback (most recent call last)",
      "\u001b[0;32m<ipython-input-50-234d94e3a2e8>\u001b[0m in \u001b[0;36m<module>\u001b[0;34m\u001b[0m\n\u001b[1;32m      4\u001b[0m \u001b[0;32mfrom\u001b[0m \u001b[0mastropy\u001b[0m \u001b[0;32mimport\u001b[0m \u001b[0mtime\u001b[0m\u001b[0;34m\u001b[0m\u001b[0;34m\u001b[0m\u001b[0m\n\u001b[1;32m      5\u001b[0m \u001b[0;34m\u001b[0m\u001b[0m\n\u001b[0;32m----> 6\u001b[0;31m \u001b[0;32mfrom\u001b[0m \u001b[0mpoliastro\u001b[0m \u001b[0;32mimport\u001b[0m \u001b[0miod\u001b[0m\u001b[0;34m\u001b[0m\u001b[0;34m\u001b[0m\u001b[0m\n\u001b[0m\u001b[1;32m      7\u001b[0m \u001b[0;32mfrom\u001b[0m \u001b[0mpoliastro\u001b[0m\u001b[0;34m.\u001b[0m\u001b[0mbodies\u001b[0m \u001b[0;32mimport\u001b[0m \u001b[0mEarth\u001b[0m\u001b[0;34m,\u001b[0m \u001b[0mMars\u001b[0m\u001b[0;34m,\u001b[0m \u001b[0mSun\u001b[0m\u001b[0;34m\u001b[0m\u001b[0;34m\u001b[0m\u001b[0m\n\u001b[1;32m      8\u001b[0m \u001b[0;32mfrom\u001b[0m \u001b[0mpoliastro\u001b[0m\u001b[0;34m.\u001b[0m\u001b[0mephem\u001b[0m \u001b[0;32mimport\u001b[0m \u001b[0mEphem\u001b[0m\u001b[0;34m\u001b[0m\u001b[0;34m\u001b[0m\u001b[0m\n",
      "\u001b[0;31mModuleNotFoundError\u001b[0m: No module named 'poliastro'"
     ]
    }
   ],
   "source": [
    "import numpy as np\n",
    "\n",
    "import astropy.units as u\n",
    "from astropy import time\n",
    "\n",
    "from poliastro import iod\n",
    "from poliastro.bodies import Earth, Mars, Sun\n",
    "from poliastro.ephem import Ephem\n",
    "from poliastro.twobody import Orbit\n",
    "from poliastro.maneuver import Maneuver\n",
    "from poliastro.util import time_range"
   ]
  },
  {
   "cell_type": "code",
   "execution_count": 286,
   "metadata": {},
   "outputs": [
    {
     "name": "stdout",
     "output_type": "stream",
     "text": [
      "[10557.9  2986.8] 350550254.8373816\n",
      "[10557.9  2986.9] 349260842.59343904\n",
      "[10557.9  2987. ] 348164368.1974788\n",
      "[10557.9  2987.1] 347262636.33093184\n",
      "[10557.9  2987.2] 346557143.78506047\n",
      "[10557.9  2987.3] 346049065.20005727\n",
      "[10557.9  2987.4] 345739248.30525273\n",
      "[10557.9  2987.5] 345628200.77864325\n",
      "[10557.9  2987.6] 345716090.80626714\n",
      "[10557.9  2987.7] 346002741.84534186\n",
      "[10558.   2986.8] 346396554.92819154\n",
      "[10558.   2986.9] 345497532.0876703\n",
      "[10558.  2987.] 344795742.79733264\n",
      "[10558.   2987.1] 344292369.7959142\n",
      "[10558.   2987.2] 343988258.55898356\n",
      "[10558.   2987.3] 343883913.7060461\n",
      "[10558.   2987.4] 343979491.90558964\n",
      "[10558.   2987.5] 344274802.5897922\n",
      "[10558.   2987.6] 344769307.93778026\n",
      "[10558.   2987.7] 345462128.6783343\n",
      "[10558.1  2986.8] 343034259.86339086\n",
      "[10558.1  2986.9] 342535643.3324912\n",
      "[10558.1  2987. ] 342237300.6021998\n",
      "[10558.1  2987.1] 342139730.0898012\n",
      "[10558.1  2987.2] 342243079.13986874\n",
      "[10558.1  2987.3] 342547140.18634707\n",
      "[10558.1  2987.4] 343051355.4820857\n",
      "[10558.1  2987.5] 343754819.6265806\n",
      "[10558.1  2987.6] 344656288.6454703\n"
     ]
    },
    {
     "ename": "KeyboardInterrupt",
     "evalue": "",
     "output_type": "error",
     "traceback": [
      "\u001b[0;31m---------------------------------------------------------------------------\u001b[0m",
      "\u001b[0;31mKeyboardInterrupt\u001b[0m                         Traceback (most recent call last)",
      "\u001b[0;32m<ipython-input-286-b9597a0c1653>\u001b[0m in \u001b[0;36m<module>\u001b[0;34m\u001b[0m\n\u001b[1;32m      1\u001b[0m \u001b[0mxbounds\u001b[0m\u001b[0;34m=\u001b[0m\u001b[0;34m[\u001b[0m\u001b[0;36m10557.90\u001b[0m\u001b[0;34m,\u001b[0m\u001b[0;36m10558.90\u001b[0m\u001b[0;34m]\u001b[0m\u001b[0;34m\u001b[0m\u001b[0;34m\u001b[0m\u001b[0m\n\u001b[1;32m      2\u001b[0m \u001b[0mybounds\u001b[0m\u001b[0;34m=\u001b[0m\u001b[0;34m[\u001b[0m\u001b[0;36m2986.8\u001b[0m\u001b[0;34m,\u001b[0m \u001b[0;36m2987.8\u001b[0m\u001b[0;34m]\u001b[0m   \u001b[0;31m#[10557.95  2987.4 ] 344756044\u001b[0m\u001b[0;34m\u001b[0m\u001b[0;34m\u001b[0m\u001b[0m\n\u001b[0;32m----> 3\u001b[0;31m \u001b[0mminimizer\u001b[0m\u001b[0;34m(\u001b[0m\u001b[0mobjective\u001b[0m\u001b[0;34m,\u001b[0m \u001b[0mxbounds\u001b[0m\u001b[0;34m,\u001b[0m \u001b[0mybounds\u001b[0m\u001b[0;34m,\u001b[0m \u001b[0;36m10\u001b[0m\u001b[0;34m)\u001b[0m\u001b[0;34m\u001b[0m\u001b[0;34m\u001b[0m\u001b[0m\n\u001b[0m",
      "\u001b[0;32m<ipython-input-264-9eba33a0466a>\u001b[0m in \u001b[0;36mminimizer\u001b[0;34m(fun, xbounds, ybounds, nsteps)\u001b[0m\n\u001b[1;32m    115\u001b[0m         \u001b[0;32mfor\u001b[0m \u001b[0mk\u001b[0m \u001b[0;32min\u001b[0m \u001b[0mrange\u001b[0m \u001b[0;34m(\u001b[0m\u001b[0;36m0\u001b[0m\u001b[0;34m,\u001b[0m\u001b[0mnsteps\u001b[0m\u001b[0;34m)\u001b[0m\u001b[0;34m:\u001b[0m\u001b[0;34m\u001b[0m\u001b[0;34m\u001b[0m\u001b[0m\n\u001b[1;32m    116\u001b[0m             \u001b[0mv\u001b[0m\u001b[0;34m[\u001b[0m\u001b[0;36m1\u001b[0m\u001b[0;34m]\u001b[0m\u001b[0;34m=\u001b[0m\u001b[0mk\u001b[0m\u001b[0;34m*\u001b[0m\u001b[0mystep\u001b[0m\u001b[0;34m+\u001b[0m\u001b[0mybounds\u001b[0m\u001b[0;34m[\u001b[0m\u001b[0;36m0\u001b[0m\u001b[0;34m]\u001b[0m\u001b[0;34m\u001b[0m\u001b[0;34m\u001b[0m\u001b[0m\n\u001b[0;32m--> 117\u001b[0;31m             \u001b[0mvalue\u001b[0m\u001b[0;34m=\u001b[0m \u001b[0mfun\u001b[0m\u001b[0;34m(\u001b[0m\u001b[0mv\u001b[0m\u001b[0;34m)\u001b[0m\u001b[0;34m\u001b[0m\u001b[0;34m\u001b[0m\u001b[0m\n\u001b[0m\u001b[1;32m    118\u001b[0m             \u001b[0mprint\u001b[0m\u001b[0;34m(\u001b[0m\u001b[0mv\u001b[0m\u001b[0;34m,\u001b[0m\u001b[0mvalue\u001b[0m\u001b[0;34m)\u001b[0m\u001b[0;34m\u001b[0m\u001b[0;34m\u001b[0m\u001b[0m\n\u001b[1;32m    119\u001b[0m             \u001b[0;32mif\u001b[0m \u001b[0mvalue\u001b[0m\u001b[0;34m<\u001b[0m\u001b[0mbest\u001b[0m\u001b[0;34m:\u001b[0m\u001b[0;34m\u001b[0m\u001b[0;34m\u001b[0m\u001b[0m\n",
      "\u001b[0;32m<ipython-input-264-9eba33a0466a>\u001b[0m in \u001b[0;36mobjective\u001b[0;34m(V)\u001b[0m\n\u001b[1;32m    100\u001b[0m     \u001b[0mrocket\u001b[0m\u001b[0;34m.\u001b[0m\u001b[0mvel\u001b[0m \u001b[0;34m=\u001b[0m \u001b[0mrocket\u001b[0m\u001b[0;34m.\u001b[0m\u001b[0mvel\u001b[0m\u001b[0;34m+\u001b[0m\u001b[0mV\u001b[0m\u001b[0;34m\u001b[0m\u001b[0;34m\u001b[0m\u001b[0m\n\u001b[1;32m    101\u001b[0m     \u001b[0;32mfor\u001b[0m \u001b[0mi\u001b[0m \u001b[0;32min\u001b[0m \u001b[0mrange\u001b[0m\u001b[0;34m(\u001b[0m\u001b[0;36m0\u001b[0m\u001b[0;34m,\u001b[0m\u001b[0mn\u001b[0m\u001b[0;34m)\u001b[0m\u001b[0;34m:\u001b[0m\u001b[0;34m\u001b[0m\u001b[0;34m\u001b[0m\u001b[0m\n\u001b[0;32m--> 102\u001b[0;31m         \u001b[0mRK4_nbody\u001b[0m\u001b[0;34m(\u001b[0m\u001b[0mearth\u001b[0m\u001b[0;34m,\u001b[0m\u001b[0msun\u001b[0m\u001b[0;34m,\u001b[0m\u001b[0mmars\u001b[0m\u001b[0;34m,\u001b[0m\u001b[0mrocket\u001b[0m\u001b[0;34m,\u001b[0m\u001b[0mdt\u001b[0m\u001b[0;34m)\u001b[0m\u001b[0;34m\u001b[0m\u001b[0;34m\u001b[0m\u001b[0m\n\u001b[0m\u001b[1;32m    103\u001b[0m         \u001b[0mRK4_nbody\u001b[0m\u001b[0;34m(\u001b[0m\u001b[0mmars\u001b[0m\u001b[0;34m,\u001b[0m\u001b[0msun\u001b[0m\u001b[0;34m,\u001b[0m\u001b[0mrocket\u001b[0m\u001b[0;34m,\u001b[0m\u001b[0mearth\u001b[0m\u001b[0;34m,\u001b[0m\u001b[0mdt\u001b[0m\u001b[0;34m)\u001b[0m\u001b[0;34m\u001b[0m\u001b[0;34m\u001b[0m\u001b[0m\n\u001b[1;32m    104\u001b[0m         \u001b[0mRK4_nbody\u001b[0m\u001b[0;34m(\u001b[0m\u001b[0mrocket\u001b[0m\u001b[0;34m,\u001b[0m\u001b[0msun\u001b[0m\u001b[0;34m,\u001b[0m\u001b[0mearth\u001b[0m\u001b[0;34m,\u001b[0m\u001b[0mmars\u001b[0m\u001b[0;34m,\u001b[0m\u001b[0mdt\u001b[0m\u001b[0;34m)\u001b[0m \u001b[0;31m#200 is dt\u001b[0m\u001b[0;34m\u001b[0m\u001b[0;34m\u001b[0m\u001b[0m\n",
      "\u001b[0;32m<ipython-input-264-9eba33a0466a>\u001b[0m in \u001b[0;36mRK4_nbody\u001b[0;34m(fly, m1, m2, m3, a)\u001b[0m\n\u001b[1;32m     68\u001b[0m     \u001b[0mv2\u001b[0m\u001b[0;34m=\u001b[0m\u001b[0mfly\u001b[0m\u001b[0;34m.\u001b[0m\u001b[0mvel\u001b[0m\u001b[0;34m+\u001b[0m\u001b[0;34m(\u001b[0m\u001b[0ma\u001b[0m\u001b[0;34m/\u001b[0m\u001b[0;36m2\u001b[0m\u001b[0;34m)\u001b[0m\u001b[0;34m*\u001b[0m\u001b[0macc2\u001b[0m\u001b[0;34m\u001b[0m\u001b[0;34m\u001b[0m\u001b[0m\n\u001b[1;32m     69\u001b[0m     \u001b[0mz3\u001b[0m\u001b[0;34m=\u001b[0m\u001b[0mfly\u001b[0m\u001b[0;34m.\u001b[0m\u001b[0mpos\u001b[0m\u001b[0;34m+\u001b[0m\u001b[0ma\u001b[0m\u001b[0;34m*\u001b[0m\u001b[0mv2\u001b[0m\u001b[0;34m\u001b[0m\u001b[0;34m\u001b[0m\u001b[0m\n\u001b[0;32m---> 70\u001b[0;31m     \u001b[0macc3\u001b[0m\u001b[0;34m=\u001b[0m\u001b[0mgrav\u001b[0m\u001b[0;34m(\u001b[0m\u001b[0mz2\u001b[0m\u001b[0;34m,\u001b[0m\u001b[0mm1\u001b[0m\u001b[0;34m,\u001b[0m\u001b[0mm2\u001b[0m\u001b[0;34m,\u001b[0m\u001b[0mm3\u001b[0m\u001b[0;34m)\u001b[0m\u001b[0;34m\u001b[0m\u001b[0;34m\u001b[0m\u001b[0m\n\u001b[0m\u001b[1;32m     71\u001b[0m     \u001b[0mv3\u001b[0m\u001b[0;34m=\u001b[0m\u001b[0mfly\u001b[0m\u001b[0;34m.\u001b[0m\u001b[0mvel\u001b[0m\u001b[0;34m+\u001b[0m\u001b[0ma\u001b[0m\u001b[0;34m*\u001b[0m\u001b[0macc3\u001b[0m\u001b[0;34m\u001b[0m\u001b[0;34m\u001b[0m\u001b[0m\n\u001b[1;32m     72\u001b[0m     \u001b[0mfly\u001b[0m\u001b[0;34m.\u001b[0m\u001b[0mpos\u001b[0m\u001b[0;34m=\u001b[0m\u001b[0mfly\u001b[0m\u001b[0;34m.\u001b[0m\u001b[0mpos\u001b[0m\u001b[0;34m+\u001b[0m\u001b[0;34m(\u001b[0m\u001b[0ma\u001b[0m\u001b[0;34m/\u001b[0m\u001b[0;36m6\u001b[0m\u001b[0;34m)\u001b[0m\u001b[0;34m*\u001b[0m\u001b[0;34m(\u001b[0m\u001b[0mfly\u001b[0m\u001b[0;34m.\u001b[0m\u001b[0mvel\u001b[0m\u001b[0;34m+\u001b[0m\u001b[0;36m2\u001b[0m\u001b[0;34m*\u001b[0m\u001b[0mv1\u001b[0m\u001b[0;34m+\u001b[0m\u001b[0;36m2\u001b[0m\u001b[0;34m*\u001b[0m\u001b[0mv2\u001b[0m\u001b[0;34m+\u001b[0m\u001b[0mv3\u001b[0m\u001b[0;34m)\u001b[0m\u001b[0;34m\u001b[0m\u001b[0;34m\u001b[0m\u001b[0m\n",
      "\u001b[0;32m<ipython-input-264-9eba33a0466a>\u001b[0m in \u001b[0;36mgrav\u001b[0;34m(pos, m1, m2, m3)\u001b[0m\n\u001b[1;32m     49\u001b[0m     \u001b[0mmagr1\u001b[0m\u001b[0;34m=\u001b[0m\u001b[0mnp\u001b[0m\u001b[0;34m.\u001b[0m\u001b[0mlinalg\u001b[0m\u001b[0;34m.\u001b[0m\u001b[0mnorm\u001b[0m\u001b[0;34m(\u001b[0m\u001b[0mr1\u001b[0m\u001b[0;34m)\u001b[0m\u001b[0;34m\u001b[0m\u001b[0;34m\u001b[0m\u001b[0m\n\u001b[1;32m     50\u001b[0m     \u001b[0mmagr2\u001b[0m\u001b[0;34m=\u001b[0m\u001b[0mnp\u001b[0m\u001b[0;34m.\u001b[0m\u001b[0mlinalg\u001b[0m\u001b[0;34m.\u001b[0m\u001b[0mnorm\u001b[0m\u001b[0;34m(\u001b[0m\u001b[0mr2\u001b[0m\u001b[0;34m)\u001b[0m\u001b[0;34m\u001b[0m\u001b[0;34m\u001b[0m\u001b[0m\n\u001b[0;32m---> 51\u001b[0;31m     \u001b[0mmagr3\u001b[0m\u001b[0;34m=\u001b[0m\u001b[0mnp\u001b[0m\u001b[0;34m.\u001b[0m\u001b[0mlinalg\u001b[0m\u001b[0;34m.\u001b[0m\u001b[0mnorm\u001b[0m\u001b[0;34m(\u001b[0m\u001b[0mr3\u001b[0m\u001b[0;34m)\u001b[0m\u001b[0;34m\u001b[0m\u001b[0;34m\u001b[0m\u001b[0m\n\u001b[0m\u001b[1;32m     52\u001b[0m     \u001b[0mr11\u001b[0m\u001b[0;34m=\u001b[0m\u001b[0mtoUnit\u001b[0m\u001b[0;34m(\u001b[0m\u001b[0mr1\u001b[0m\u001b[0;34m)\u001b[0m\u001b[0;34m\u001b[0m\u001b[0;34m\u001b[0m\u001b[0m\n\u001b[1;32m     53\u001b[0m     \u001b[0mr21\u001b[0m\u001b[0;34m=\u001b[0m\u001b[0mtoUnit\u001b[0m\u001b[0;34m(\u001b[0m\u001b[0mr2\u001b[0m\u001b[0;34m)\u001b[0m\u001b[0;34m\u001b[0m\u001b[0;34m\u001b[0m\u001b[0m\n",
      "\u001b[0;32m<__array_function__ internals>\u001b[0m in \u001b[0;36mnorm\u001b[0;34m(*args, **kwargs)\u001b[0m\n",
      "\u001b[0;32m~/opt/anaconda3/lib/python3.8/site-packages/numpy/linalg/linalg.py\u001b[0m in \u001b[0;36mnorm\u001b[0;34m(x, ord, axis, keepdims)\u001b[0m\n\u001b[1;32m   2529\u001b[0m             \u001b[0;32melse\u001b[0m\u001b[0;34m:\u001b[0m\u001b[0;34m\u001b[0m\u001b[0;34m\u001b[0m\u001b[0m\n\u001b[1;32m   2530\u001b[0m                 \u001b[0msqnorm\u001b[0m \u001b[0;34m=\u001b[0m \u001b[0mdot\u001b[0m\u001b[0;34m(\u001b[0m\u001b[0mx\u001b[0m\u001b[0;34m,\u001b[0m \u001b[0mx\u001b[0m\u001b[0;34m)\u001b[0m\u001b[0;34m\u001b[0m\u001b[0;34m\u001b[0m\u001b[0m\n\u001b[0;32m-> 2531\u001b[0;31m             \u001b[0mret\u001b[0m \u001b[0;34m=\u001b[0m \u001b[0msqrt\u001b[0m\u001b[0;34m(\u001b[0m\u001b[0msqnorm\u001b[0m\u001b[0;34m)\u001b[0m\u001b[0;34m\u001b[0m\u001b[0;34m\u001b[0m\u001b[0m\n\u001b[0m\u001b[1;32m   2532\u001b[0m             \u001b[0;32mif\u001b[0m \u001b[0mkeepdims\u001b[0m\u001b[0;34m:\u001b[0m\u001b[0;34m\u001b[0m\u001b[0;34m\u001b[0m\u001b[0m\n\u001b[1;32m   2533\u001b[0m                 \u001b[0mret\u001b[0m \u001b[0;34m=\u001b[0m \u001b[0mret\u001b[0m\u001b[0;34m.\u001b[0m\u001b[0mreshape\u001b[0m\u001b[0;34m(\u001b[0m\u001b[0mndim\u001b[0m\u001b[0;34m*\u001b[0m\u001b[0;34m[\u001b[0m\u001b[0;36m1\u001b[0m\u001b[0;34m]\u001b[0m\u001b[0;34m)\u001b[0m\u001b[0;34m\u001b[0m\u001b[0;34m\u001b[0m\u001b[0m\n",
      "\u001b[0;31mKeyboardInterrupt\u001b[0m: "
     ]
    }
   ],
   "source": [
    "xbounds=[10557.90,10558.90]\n",
    "ybounds=[2986.8, 2987.8]   #[10557.95  2987.4 ] 344756044\n",
    "minimizer(objective, xbounds, ybounds, 10)"
   ]
  },
  {
   "cell_type": "code",
   "execution_count": null,
   "metadata": {},
   "outputs": [],
   "source": [
    "#[10548.  3010.]  553341702\n",
    "#[10556.  2992.] 382279632\n",
    "#[10557.  2990.] 365462180\n",
    "#[10558.1  2987.4] 343051355.4"
   ]
  },
  {
   "cell_type": "code",
   "execution_count": 3,
   "metadata": {},
   "outputs": [
    {
     "data": {
      "text/plain": [
       "      fun: 476019.6821492618\n",
       " hess_inv: <2x2 LbfgsInvHessProduct with dtype=float64>\n",
       "      jac: array([-11540646.17533649,  27179107.18108231])\n",
       "  message: b'ABNORMAL_TERMINATION_IN_LNSRCH'\n",
       "     nfev: 1686\n",
       "      nit: 160\n",
       "     njev: 562\n",
       "   status: 2\n",
       "  success: False\n",
       "        x: array([10577.44748317,  2947.46702147])"
      ]
     },
     "execution_count": 3,
     "metadata": {},
     "output_type": "execute_result"
    }
   ],
   "source": [
    "XBOUNDS=[10500,10600.0]   #[10558.1  2987.6] 344656288\n",
    "YBOUNDS=[2900.0,2980.0]\n",
    "V=np.array([10558.1,  2987.6])\n",
    "bnds=(XBOUNDS,YBOUNDS)\n",
    "minimize(objective, V, bounds=bnds)  #[10558.11093716,  2987.5       ]  [10561.75659711,  2980.        ]"
   ]
  },
  {
   "cell_type": "code",
   "execution_count": null,
   "metadata": {},
   "outputs": [],
   "source": [
    "dt=200\n",
    "dv1= 10980.435196378721\n",
    "dv2= 6792.732465676917\n",
    "18753.636894704363\n",
    "dvtot= 17773.16766205564"
   ]
  }
 ],
 "metadata": {
  "kernelspec": {
   "display_name": "Python 3",
   "language": "python",
   "name": "python3"
  },
  "language_info": {
   "codemirror_mode": {
    "name": "ipython",
    "version": 3
   },
   "file_extension": ".py",
   "mimetype": "text/x-python",
   "name": "python",
   "nbconvert_exporter": "python",
   "pygments_lexer": "ipython3",
   "version": "3.8.5"
  }
 },
 "nbformat": 4,
 "nbformat_minor": 4
}
