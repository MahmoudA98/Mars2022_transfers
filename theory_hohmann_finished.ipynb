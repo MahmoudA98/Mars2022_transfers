{
 "cells": [
  {
   "cell_type": "code",
   "execution_count": 45,
   "metadata": {},
   "outputs": [],
   "source": [
    "###                              Theoretical ONLY    "
   ]
  },
  {
   "cell_type": "code",
   "execution_count": 2,
   "metadata": {},
   "outputs": [],
   "source": [
    "import numpy as np\n",
    "import math\n",
    "import matplotlib.pyplot as plt\n",
    "G = 6.6726e-11   #Grav constant\n",
    "dt=200  #timestep size\n",
    "n= 111500  # *based on theorteical transfer time and dt=200\n",
    "i=0 #for the loop later\n",
    "PI=np.pi\n",
    "#n=223000\n",
    "#dt=100"
   ]
  },
  {
   "cell_type": "code",
   "execution_count": 3,
   "metadata": {},
   "outputs": [],
   "source": [
    "class Planet:\n",
    "    def __init__(self, name, mass, dist, radius, period,theta):\n",
    "        self.name=name\n",
    "        self.mass=mass\n",
    "        self.dist=dist\n",
    "        self.radius=radius\n",
    "        self.period=period\n",
    "        self.theta=theta  #\n",
    "        self.pos=self.dist*np.array([np.cos(2*PI*dt*i/self.period+theta),np.sin(2*PI*dt*i/self.period+theta)])\n",
    "        #angular offset based on 28/07/2022   https://www.theplanetstoday.com/\n"
   ]
  },
  {
   "cell_type": "code",
   "execution_count": 4,
   "metadata": {},
   "outputs": [],
   "source": [
    "class Satellite:\n",
    "    def __init__(self, name, mass, pos):\n",
    "        self.name=name\n",
    "        self.mass=mass\n",
    "        self.pos=pos\n",
    "        self.vel=np.array([0,0])\n"
   ]
  },
  {
   "cell_type": "code",
   "execution_count": 5,
   "metadata": {},
   "outputs": [],
   "source": [
    "def toUnit(v):\n",
    "    norm = np.linalg.norm(v)\n",
    "    if norm == 0: \n",
    "       return v\n",
    "    return v / norm\n",
    "\n",
    "def grav(pos, m1,m2,m3,m4): #m1 is sun, m2 earth, m3 mars, m4 venus\n",
    "    acc=np.array([0.0,0.0])\n",
    "    r1=m1.pos-pos\n",
    "    r2=m2.pos-pos\n",
    "    r3=m3.pos-pos\n",
    "    r4=m4.pos-pos\n",
    "    magr1=np.linalg.norm(r1)\n",
    "    magr2=np.linalg.norm(r2)\n",
    "    magr3=np.linalg.norm(r3)\n",
    "    magr4=np.linalg.norm(r4)\n",
    "    r11=toUnit(r1)\n",
    "    r21=toUnit(r2)\n",
    "    r31=toUnit(r3)\n",
    "    r41=toUnit(r4)\n",
    "    acc1_mag= G*m1.mass/(magr1*magr1)\n",
    "    acc2_mag= G*m2.mass/(magr2*magr2)\n",
    "    acc3_mag= G*m3.mass/(magr3*magr3)\n",
    "    acc4_mag= G*m4.mass/(magr4*magr4)\n",
    "    acc[0]= acc1_mag*r11[0]+acc2_mag*r21[0]+acc3_mag*r31[0]+acc4_mag*r41[0]\n",
    "    acc[1]= acc1_mag*r11[1]+acc2_mag*r21[1]+acc3_mag*r31[1]+acc4_mag*r41[0]\n",
    "    return acc\n",
    "\n",
    "def hamiltonian(fly, m1,m2,m3):\n",
    "    ham=(np.linalg.norm(fly.vel))**2\n",
    "    r1=m1.pos-fly.pos\n",
    "    r2=m2.pos-fly.pos\n",
    "    r3=np.pos-fly.pos\n",
    "    magr1=np.linalg.norm(r1)\n",
    "    magr2=np.linalg.norm(r2)\n",
    "    magr3=np.linalg.norm(r3)\n",
    "    ham=ham-G*((m1/magr1)+(m2/magr2)+(m3/magr3))\n",
    "    return ham\n",
    "\n",
    "def RK4_nbody(fly,m1,m2,m3,m4,a):  #up to 4 bodies\n",
    "    z1=fly.pos+(a/2)*fly.vel\n",
    "    acc1=grav(fly.pos,m1,m2,m3,m4) #need fly but with position z1\n",
    "    v1=fly.vel+(a/2)*acc1\n",
    "    z2=fly.pos+(a/2)*v1\n",
    "    acc2=grav(z1,m1,m2,m3,m4)   #need fly but with position z2\n",
    "    v2=fly.vel+(a/2)*acc2\n",
    "    z3=fly.pos+a*v2\n",
    "    acc3=grav(z2,m1,m2,m3,m4)\n",
    "    v3=fly.vel+a*acc3\n",
    "    fly.pos=fly.pos+(a/6)*(fly.vel+2*v1+2*v2+v3)\n",
    "    acc4=grav(z3,m1,m2,m3,m4)\n",
    "    fly.vel= fly.vel+(a/6)*(acc1+2*acc2+2*acc3+acc4)\n",
    "    \n",
    "def boost(fly, v):\n",
    "    fly.vel[0]+=v[0]\n",
    "    fly.vel[1]+=v[1]\n",
    "\n",
    "def KE_per_mass(fly):\n",
    "    vv=np.linalg.norm(fly.vel)\n",
    "    return 0.5*(vv**2)\n",
    "\n",
    "def energy_correction(fly,m1,m2,m3,a):    #m1,m2,m3 are masses not accounted for in the vis-viva eqn and a is dt\n",
    "    counter_acc=np.array([0.0,0.0])\n",
    "    pos=fly.pos\n",
    "    r1=m1.pos-pos\n",
    "    r2=m2.pos-pos\n",
    "    r3=m3.pos-pos\n",
    "    magr1=np.linalg.norm(r1)\n",
    "    magr2=np.linalg.norm(r2)\n",
    "    magr3=np.linalg.norm(r3)\n",
    "    acc1_mag= G*m1.mass/(magr1*magr1)\n",
    "    acc2_mag= G*m2.mass/(magr2*magr2)\n",
    "    acc3_mag= G*m3.mass/(magr3*magr3)\n",
    "    counter_acc[0]= acc1_mag*r11[0]+acc2_mag*r21[0]+acc3_mag*r31[0]\n",
    "    counter_acc[1]= acc1_mag*r11[1]+acc2_mag*r21[1]+acc3_mag*r31[1]\n",
    "    distance_travelled=fly.vel*a\n",
    "    net_counter_force_per_mass=np.linalg.norm(counter_acc)\n",
    "    return net-counter_force_per_mass*distance_travelled\n",
    "\n",
    "def epsilon(POS,SPEED,m1,m2,m3,m4): #m1,m2,m3,m4 are sun,earth,mars,venus, k is i (which element of array pointer)\n",
    "    EK=0.5*SPEED**2\n",
    "    r1=m1.pos-POS\n",
    "    r2=m2.pos-POS\n",
    "    r3=m3.pos-POS\n",
    "    r4=m4.pos-POS\n",
    "    magr1=np.linalg.norm(r1)\n",
    "    magr2=np.linalg.norm(r2)\n",
    "    magr3=np.linalg.norm(r3)\n",
    "    magr4=np.linalg.norm(r4)\n",
    "    ham=EK-G*((m1.mass/magr1)+(m2.mass/magr2)+(m3.mass/magr3)+(m4.mass/magr4))\n",
    "    return ham"
   ]
  },
  {
   "cell_type": "code",
   "execution_count": 6,
   "metadata": {},
   "outputs": [],
   "source": [
    "#earth = Planet(\"earth\", 5.9742e+24 , 147.92e+9,6371000,3.15e+7,0) #3.154e+7\n",
    "#mars = Planet(\"mars\", 6.39e+23, 218.49e+9, 3389500, 59.4e+6,0.7768775717671333)\n",
    "#sun = Planet(\"sun\", 1.99e+30, 0, 696340000, 31446925,0)\n",
    "#venus = Planet(\"venus\", 4.867e+24, 108.2e+9, 605200, 19440000,1.55334)\n",
    "\n",
    "earth = Planet(\"earth\", 0 , 147.92e+9,6371000,3.154e+7,0) #period 3.154e+7\n",
    "mars = Planet(\"mars\", 0, 218.49e+9, 3389500, 5.858e+7,0.875)#theoretical angular offset0.7768775717671333, period  59.4e+6\n",
    "sun = Planet(\"sun\", 1.99e+30, 0, 696340000, 31446925,0)\n",
    "venus = Planet(\"venus\", 0, 108.2e+9, 605200, 19440000,1.55334)"
   ]
  },
  {
   "cell_type": "code",
   "execution_count": 7,
   "metadata": {},
   "outputs": [
    {
     "name": "stdout",
     "output_type": "stream",
     "text": [
      "deltaV1= 2787.9401147407643 m/s\n",
      "extra energy= 87304168.5 j/kg\n",
      "32719.0\n"
     ]
    }
   ],
   "source": [
    "rocket = Satellite(\"rocket\", 2.8e+6,np.array([earth.radius+earth.dist, 0]))\n",
    "rocket_vel_at_pole=((earth.dist+earth.radius)/earth.period)*2*PI\n",
    "rocket.vel[1]=(((earth.dist+earth.radius)/earth.period)+(earth.radius/86400))*2*PI\n",
    "\n",
    "#create the arrays to be exported\n",
    "speed=np.array([np.linalg.norm(rocket.vel)])\n",
    "MX=np.array(mars.pos[0])\n",
    "MY=np.array(mars.pos[1])\n",
    "EX=np.array(earth.pos[0])\n",
    "EY=np.array(earth.pos[1])\n",
    "VX=np.array(venus.pos[0])\n",
    "VY=np.array(venus.pos[1])\n",
    "RX=np.array(rocket.pos[0])\n",
    "RY=np.array(rocket.pos[1])\n",
    "hams=np.array([epsilon(rocket.pos,speed[0],sun,earth,mars,venus)])\n",
    "#----------------------\n",
    "\n",
    "r1=earth.radius+earth.dist\n",
    "u=sun.mass*G\n",
    "r2=mars.dist\n",
    "starting=KE_per_mass(rocket)\n",
    "deltaV=np.sqrt(u/r1)*(np.sqrt(2*r2/(r1+r2))-1)  #theoretical from vis viva eqn\n",
    "burn1=np.array([0,deltaV])\n",
    "boost(rocket,burn1)\n",
    "error=np.array([0,30])   #29.95 not enough, 30.0 too much\n",
    "boost(rocket,error)\n",
    "extra=(earth.radius/86400)*2*PI\n",
    "print(\"deltaV1=\",deltaV+error[1], \"m/s\")\n",
    "burn1=burn1[1]+error[1]\n",
    "mid=KE_per_mass(rocket)\n",
    "print(\"extra energy=\", mid-starting,\"j/kg\")\n",
    "print(np.linalg.norm(rocket.vel))"
   ]
  },
  {
   "cell_type": "code",
   "execution_count": 52,
   "metadata": {},
   "outputs": [
    {
     "name": "stdout",
     "output_type": "stream",
     "text": [
      "velocity before landing= [  -697.08928688 -22141.8364591 ]\n",
      "deltaV2: 1468.9071420577025 extra m/s\n",
      "extra energy= 29221497.89231345 j/kg\n",
      "i= 105648\n",
      "Landing successfull\n"
     ]
    },
    {
     "data": {
      "text/plain": [
       "<matplotlib.legend.Legend at 0x7fe4b14f8c40>"
      ]
     },
     "execution_count": 52,
     "metadata": {},
     "output_type": "execute_result"
    },
    {
     "data": {
      "image/png": "[encoded data removed]",
      "text/plain": [
       "<Figure size 576x576 with 1 Axes>"
      ]
     },
     "metadata": {
      "needs_background": "light"
     },
     "output_type": "display_data"
    }
   ],
   "source": [
    "#Create figure\n",
    "fig=plt.figure(figsize=(8,8))\n",
    "#Create 3D axes\n",
    "ax=fig.add_subplot(111)\n",
    "\n",
    "#append all so they are all the same length in the end\n",
    "MX=np.append(MX,mars.pos[0])\n",
    "MY=np.append(MY,mars.pos[1])\n",
    "EX=np.append(EX,earth.pos[0])\n",
    "EY=np.append(EY,earth.pos[1])\n",
    "VX=np.append(VX,venus.pos[0])\n",
    "VY=np.append(VY,venus.pos[1])\n",
    "RX=np.append(RX,rocket.pos[0])\n",
    "RY=np.append(RY,rocket.pos[1])\n",
    "speed=np.append(speed,np.linalg.norm(rocket.vel))\n",
    "hams=np.append(hams,epsilon(rocket.pos,speed[1],sun,earth,mars,venus))\n",
    "\n",
    "#-----------------------\n",
    "for i in range(0,n):\n",
    "    earth.pos=earth.dist*np.array([np.cos(2*PI*dt*i/earth.period+earth.theta),np.sin(2*PI*dt*i/earth.period+earth.theta)])\n",
    "    mars.pos=mars.dist*np.array([np.cos(2*PI*dt*i/mars.period+mars.theta),np.sin(2*PI*dt*i/mars.period+mars.theta)])\n",
    "    venus.pos=venus.dist*np.array([np.cos(2*PI*dt*i/venus.period+venus.theta),np.sin(2*PI*dt*i/venus.period+venus.theta)])\n",
    "    #print(rocket.vel)\n",
    "    RK4_nbody(rocket, sun, earth, mars, venus, dt)\n",
    "    \n",
    "    #append all equally \n",
    "    \n",
    "    RX=np.append(RX,rocket.pos[0])\n",
    "    RY=np.append(RY,rocket.pos[1])\n",
    "    MX=np.append(MX,mars.pos[0])\n",
    "    MY=np.append(MY,mars.pos[1])\n",
    "    EX=np.append(EX,earth.pos[0])\n",
    "    EY=np.append(EY,earth.pos[1])\n",
    "    VX=np.append(VX,venus.pos[0])\n",
    "    VY=np.append(VY,venus.pos[1])\n",
    "    speed=np.append(speed,np.linalg.norm(rocket.vel))\n",
    "    hams=np.append(hams,epsilon(rocket.pos,speed[i+2],sun,earth,mars,venus))\n",
    "    \n",
    "    dist=np.linalg.norm(rocket.pos)\n",
    "    if mars.dist-dist<mars.radius:\n",
    "        marsvel=np.array([0,-23434.8])\n",
    "        starting2=KE_per_mass(rocket)\n",
    "        print(\"velocity before landing=\", rocket.vel)\n",
    "        burn2=marsvel-rocket.vel\n",
    "        rocket.vel+=burn2\n",
    "        burn2mag=np.linalg.norm(burn2)\n",
    "        print(\"deltaV2:\", burn2mag, \"extra m/s\")\n",
    "        ending2=KE_per_mass(rocket)\n",
    "        print(\"extra energy=\", ending2-starting2,\"j/kg\")\n",
    "        print(\"i=\", i)\n",
    "        if np.linalg.norm(mars.pos-rocket.pos)<mars.radius:\n",
    "            print(\"perfect arrival\")\n",
    "            break\n",
    "        else:\n",
    "            print(\"Landing successfull\")\n",
    "            \n",
    "            #append all so same lenght arrays \"landing appends\"\n",
    "            RX=np.append(RX,MX[i])\n",
    "            RY=np.append(RY,MY[i]-mars.radius)\n",
    "            MX=np.append(MX,mars.pos[0])\n",
    "            MY=np.append(MY,mars.pos[1])\n",
    "            EX=np.append(EX,earth.pos[0])\n",
    "            EY=np.append(EY,earth.pos[1])\n",
    "            VX=np.append(VX,venus.pos[0])\n",
    "            VY=np.append(VY,venus.pos[1])\n",
    "            speed=np.append(speed,np.linalg.norm(rocket.vel))\n",
    "            hams=np.append(hams,epsilon(rocket.pos,speed[i+3],sun,earth,mars,venus))\n",
    "            #landing complete, rocket matching martian velocity \n",
    "            break\n",
    "    if mars.pos[1]-1000<0:\n",
    "        print(\"mars arrived first\")\n",
    "        break\n",
    "        \n",
    "plt.plot(RX, RY,label='Rocket', color=\"black\", linewidth=1)\n",
    "ax.plot(MX,MY, color=\"darkred\", linewidth=1, linestyle=\"dashed\" )\n",
    "ax.plot(EX,EY, color=\"blue\", linewidth=1, linestyle=\"dashed\" )\n",
    "#ax.plot(VX, VY, color=\"grey\", linewidth=1)\n",
    "ax.plot(0,0,label='Sun', marker=\"*\", markersize=15, color=\"orange\", linewidth=0)\n",
    "#plot the final positions\n",
    "ax.scatter(MX[i],MY[i], label=\"Mars\", color=\"darkred\", marker=\"o\",s=80)\n",
    "ax.scatter(EX[i],EY[i], label='Earth', color=\"blue\", marker=\"o\",s=80)\n",
    "#ax.scatter(VX[i],VY[i], label='Venus', color=\"grey\", marker=\"o\",s=80)\n",
    "\n",
    "#ax.annotate('$\\Delta v_1$', xy=(EX[0],EY[0]), xytext=(5000000, 4),arrowprops=dict(facecolor='grey', shrink=0.01), fontsize=15)\n",
    "#ax.annotate('$\\Delta v_2$', xy=(mars.pos), xytext=(18000000, 12e+7),arrowprops=dict(facecolor='grey', shrink=0.01), fontsize=15)\n",
    "\n",
    "\n",
    "ax.set_xlabel(\"x-coordinate [m]\",fontsize=11)\n",
    "ax.set_ylabel(\"y-coordinate [m]\",fontsize=11)\n",
    "ax.set_title(\"conventional hohmann transfer to mars\",fontsize=12)\n",
    "ax.legend(loc=\"lower right\",fontsize=14)"
   ]
  },
  {
   "cell_type": "code",
   "execution_count": 9,
   "metadata": {},
   "outputs": [
    {
     "name": "stdout",
     "output_type": "stream",
     "text": [
      "[-2.18416076e+11  5.55150461e+09]\n",
      "218486616359.6804\n",
      "[     0.  -23434.8]\n",
      "4428200\n"
     ]
    }
   ],
   "source": [
    "print(rocket.pos)\n",
    "print(np.linalg.norm(rocket.pos))\n",
    "print(rocket.vel)\n",
    "print(22141*dt)"
   ]
  },
  {
   "cell_type": "code",
   "execution_count": 10,
   "metadata": {},
   "outputs": [
    {
     "name": "stdout",
     "output_type": "stream",
     "text": [
      "5493051491.4063225\n",
      "[-2.18489992e+11  5.89504539e+07]\n",
      "[-2.18416076e+11  5.55150461e+09]\n"
     ]
    }
   ],
   "source": [
    "print(np.linalg.norm(mars.pos-rocket.pos))\n",
    "print(mars.pos)\n",
    "print(rocket.pos)"
   ]
  },
  {
   "cell_type": "code",
   "execution_count": 38,
   "metadata": {},
   "outputs": [
    {
     "name": "stdout",
     "output_type": "stream",
     "text": [
      "1.1441932969602495\n"
     ]
    }
   ],
   "source": [
    "print(1468/1283)"
   ]
  },
  {
   "cell_type": "code",
   "execution_count": 12,
   "metadata": {},
   "outputs": [
    {
     "name": "stdout",
     "output_type": "stream",
     "text": [
      "0.8752698084791446\n",
      "[-2.18489992e+11  5.89504539e+07]\n",
      "3389500\n"
     ]
    }
   ],
   "source": [
    "transfer_time_theory= 2.23e+7# in seconds  2.238e+7 22349563.2\n",
    "transfer_time_code=21129600 \n",
    "c=transfer_time_code/mars.period\n",
    "d=0.5-c\n",
    "e=d*2*PI\n",
    "\n",
    "print(e)\n",
    "print(mars.pos)\n",
    "print(mars.radius)"
   ]
  },
  {
   "cell_type": "code",
   "execution_count": 13,
   "metadata": {},
   "outputs": [
    {
     "name": "stdout",
     "output_type": "stream",
     "text": [
      "245373427.62768653\n"
     ]
    }
   ],
   "source": [
    "print(starting2)"
   ]
  },
  {
   "cell_type": "code",
   "execution_count": 14,
   "metadata": {},
   "outputs": [
    {
     "name": "stdout",
     "output_type": "stream",
     "text": [
      "29468.890323766533\n",
      "101084968.5\n"
     ]
    }
   ],
   "source": [
    "print(rocket_vel_at_pole)\n",
    "E11=0.5*(29468.0**2)\n",
    "E22=0.5*(32719.0**2)\n",
    "print(E22-E11)"
   ]
  },
  {
   "cell_type": "code",
   "execution_count": 48,
   "metadata": {},
   "outputs": [
    {
     "name": "stdout",
     "output_type": "stream",
     "text": [
      "energy difference= 13.780800499999984 Mj/kg\n"
     ]
    },
    {
     "data": {
      "image/png": "[encoded data removed]",
      "text/plain": [
       "<Figure size 864x864 with 1 Axes>"
      ]
     },
     "metadata": {
      "needs_background": "light"
     },
     "output_type": "display_data"
    },
    {
     "name": "stdout",
     "output_type": "stream",
     "text": [
      "116.52566589231346\n",
      "130.30646639231344\n"
     ]
    }
   ],
   "source": [
    "fig=plt.figure(figsize=(12,12))\n",
    "dE2=29.22149789231345     #MJ\n",
    "dE1=87.304168     #MJ\n",
    "dE1_pole=101.0849685\n",
    "E=np.zeros(i)\n",
    "E_pole=np.zeros(i)\n",
    "X=np.zeros(i)\n",
    "E[0]=0\n",
    "X[0]=0\n",
    "E_pole[0]=0\n",
    "for k in range(1,i):\n",
    "    E_pole[k]=dE1_pole\n",
    "    E[k]=dE1\n",
    "    X[k]=k*dt\n",
    "E[i-1]=dE1+dE2\n",
    "E_pole[i-1]=dE1_pole+dE2\n",
    "\n",
    "print(\"energy difference=\",E_pole[i-1]-E[i-1], \"Mj/kg\")\n",
    "\n",
    "plt.plot(X,E, label='launching from the equator', color=\"blue\")\n",
    "plt.plot(X,E_pole, label='launching from pole', color=\"red\", linestyle=\"dotted\")\n",
    "plt.title(\"Energy provided by thrusters per kg for the \\n theoretical hohmann transfer to Mars\")\n",
    "plt.xlabel(\"time since launch [s]\")\n",
    "plt.ylabel(\"$\\epsilon$ (energy per unit mass) [Mj]\")\n",
    "plt.legend(loc=\"best\")\n",
    "plt.show()\n",
    "print(E[i-1])\n",
    "print(E_pole[i-1])"
   ]
  },
  {
   "cell_type": "code",
   "execution_count": 10,
   "metadata": {},
   "outputs": [
    {
     "name": "stdout",
     "output_type": "stream",
     "text": [
      "1.1158798283261802\n"
     ]
    }
   ],
   "source": [
    "print(130/116.5)"
   ]
  },
  {
   "cell_type": "code",
   "execution_count": 17,
   "metadata": {},
   "outputs": [
    {
     "name": "stdout",
     "output_type": "stream",
     "text": [
      "105652\n",
      "105652\n",
      "105652\n"
     ]
    }
   ],
   "source": [
    "print(len(MX))\n",
    "print(len(RX))\n",
    "print(len(speed))"
   ]
  },
  {
   "cell_type": "code",
   "execution_count": null,
   "metadata": {},
   "outputs": [],
   "source": []
  },
  {
   "cell_type": "code",
   "execution_count": 49,
   "metadata": {},
   "outputs": [],
   "source": [
    "np.savetxt('rocket_Xpos_dt200.txt', RX)\n",
    "np.savetxt('rocket_Ypos_dt200.txt', RY)\n",
    "np.savetxt('rocket_speed_dt200.txt', speed)\n",
    "np.savetxt('mars_Xpos_dt200.txt', MX)\n",
    "np.savetxt('mars_Ypos_dt200.txt',MY)\n",
    "np.savetxt('earth_Xpos_dt200.txt', EX)\n",
    "np.savetxt('earth_Ypos_dt200.txt', EY)\n",
    "np.savetxt('venus_Xpos_dt200.txt', VX)\n",
    "np.savetxt('venus_Ypos_dt200.txt', VY)\n",
    "np.savetxt('hamiltonian_dt200.txt',hams)"
   ]
  },
  {
   "cell_type": "code",
   "execution_count": 37,
   "metadata": {},
   "outputs": [
    {
     "name": "stdout",
     "output_type": "stream",
     "text": [
      "105652 105652\n",
      "105652 105652\n",
      "105652 105652\n",
      "105652\n",
      "105652\n"
     ]
    }
   ],
   "source": [
    "print(len(RX),len(RY))\n",
    "print(len(MX),len(MY))\n",
    "print(len(EX),len(EY))\n",
    "print(len(speed))\n",
    "print(len(hams))"
   ]
  },
  {
   "cell_type": "code",
   "execution_count": 40,
   "metadata": {},
   "outputs": [
    {
     "data": {
      "text/plain": [
       "[<matplotlib.lines.Line2D at 0x7fbdb02905b0>]"
      ]
     },
     "execution_count": 40,
     "metadata": {},
     "output_type": "execute_result"
    },
    {
     "data": {
      "image/png": "[encoded data removed]",
      "text/plain": [
       "<Figure size 432x288 with 1 Axes>"
      ]
     },
     "metadata": {
      "needs_background": "light"
     },
     "output_type": "display_data"
    }
   ],
   "source": [
    "timen=np.zeros(len(hams))\n",
    "e0=hams[0]\n",
    "plothams=np.zeros(len(hams))\n",
    "for i in range(0,len(hams)):\n",
    "    timen[i]=dt*i\n",
    "    plothams[i]=hams[i]-hams[0]\n",
    "plt.plot(timen,plothams)"
   ]
  },
  {
   "cell_type": "code",
   "execution_count": 21,
   "metadata": {},
   "outputs": [
    {
     "name": "stdout",
     "output_type": "stream",
     "text": [
      "29932.0 32719.0\n"
     ]
    }
   ],
   "source": [
    "print(speed[0],speed[1])"
   ]
  },
  {
   "cell_type": "code",
   "execution_count": 22,
   "metadata": {},
   "outputs": [
    {
     "name": "stdout",
     "output_type": "stream",
     "text": [
      "22152.80693852075 23434.8\n"
     ]
    }
   ],
   "source": [
    "print(speed[105650],speed[105651])"
   ]
  },
  {
   "cell_type": "code",
   "execution_count": 23,
   "metadata": {},
   "outputs": [
    {
     "name": "stdout",
     "output_type": "stream",
     "text": [
      "32719.58268669747\n"
     ]
    }
   ],
   "source": [
    "vsq=G*sun.mass*((2/earth.dist)-(2/(earth.dist+mars.dist)))\n",
    "print(np.sqrt(vsq))"
   ]
  },
  {
   "cell_type": "code",
   "execution_count": 24,
   "metadata": {},
   "outputs": [
    {
     "name": "stdout",
     "output_type": "stream",
     "text": [
      "105652\n",
      "22152.80693852075\n"
     ]
    }
   ],
   "source": [
    "print(len(speed))\n",
    "print(speed[105650])"
   ]
  },
  {
   "cell_type": "code",
   "execution_count": 25,
   "metadata": {},
   "outputs": [
    {
     "name": "stdout",
     "output_type": "stream",
     "text": [
      "1283.3465171903008\n"
     ]
    }
   ],
   "source": [
    "print(23434.843935911023-22151.497418720723)"
   ]
  },
  {
   "cell_type": "code",
   "execution_count": 14,
   "metadata": {},
   "outputs": [
    {
     "name": "stdout",
     "output_type": "stream",
     "text": [
      "0.0027815382610590625\n",
      "3.7112881317552593\n"
     ]
    }
   ],
   "source": [
    "g_at_mars_from_sun=G*sun.mass/(mars.dist**2)\n",
    "g_at_mars_from_mars=G*6.39e+23/(mars.radius**2)\n",
    "print(g_at_mars_from_sun)\n",
    "print(g_at_mars_from_mars)"
   ]
  },
  {
   "cell_type": "code",
   "execution_count": 34,
   "metadata": {},
   "outputs": [
    {
     "name": "stdout",
     "output_type": "stream",
     "text": [
      "29221497.89231345\n"
     ]
    }
   ],
   "source": [
    "print(0.5*speed[105651]**2-0.5*speed[105650]**2)"
   ]
  },
  {
   "cell_type": "code",
   "execution_count": null,
   "metadata": {},
   "outputs": [],
   "source": []
  }
 ],
 "metadata": {
  "kernelspec": {
   "display_name": "Python 3",
   "language": "python",
   "name": "python3"
  },
  "language_info": {
   "codemirror_mode": {
    "name": "ipython",
    "version": 3
   },
   "file_extension": ".py",
   "mimetype": "text/x-python",
   "name": "python",
   "nbconvert_exporter": "python",
   "pygments_lexer": "ipython3",
   "version": "3.8.5"
  }
 },
 "nbformat": 4,
 "nbformat_minor": 4
}
